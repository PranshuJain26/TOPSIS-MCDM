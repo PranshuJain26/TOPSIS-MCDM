{
  "nbformat": 4,
  "nbformat_minor": 0,
  "metadata": {
    "colab": {
      "provenance": []
    },
    "kernelspec": {
      "name": "ir",
      "display_name": "R"
    },
    "language_info": {
      "name": "R"
    }
  },
  "cells": [
    {
      "cell_type": "markdown",
      "source": [
        "\n",
        "# **Multi-criteria decision making (MCDM) using Topsis**"
      ],
      "metadata": {
        "id": "2L8CJKTMfFWX"
      }
    },
    {
      "cell_type": "markdown",
      "source": [
        "# Installing topsis library"
      ],
      "metadata": {
        "id": "byuOpUSffQui"
      }
    },
    {
      "cell_type": "code",
      "execution_count": null,
      "metadata": {
        "colab": {
          "base_uri": "https://localhost:8080/"
        },
        "id": "TFOAPYyDdnoE",
        "outputId": "4ed2d929-d59b-4980-de93-f72804afdff7"
      },
      "outputs": [
        {
          "output_type": "stream",
          "name": "stderr",
          "text": [
            "Installing package into ‘/usr/local/lib/R/site-library’\n",
            "(as ‘lib’ is unspecified)\n",
            "\n"
          ]
        }
      ],
      "source": [
        "install.packages('topsis')"
      ]
    },
    {
      "cell_type": "markdown",
      "source": [
        "# Import the library"
      ],
      "metadata": {
        "id": "9u4nN5jqffDZ"
      }
    },
    {
      "cell_type": "code",
      "source": [
        "library(topsis)"
      ],
      "metadata": {
        "id": "sowisx-Jfimx"
      },
      "execution_count": null,
      "outputs": []
    },
    {
      "cell_type": "markdown",
      "source": [
        "# Read the dataset"
      ],
      "metadata": {
        "id": "5-taQbFffp4R"
      }
    },
    {
      "cell_type": "code",
      "source": [
        "mydata=read.csv('/content/Topsis-Dataset.csv')\n",
        "mydata"
      ],
      "metadata": {
        "colab": {
          "base_uri": "https://localhost:8080/",
          "height": 255
        },
        "id": "m8wyuGpHfrc7",
        "outputId": "825a4d37-b40d-42d0-a643-85e0ed0857dc"
      },
      "execution_count": null,
      "outputs": [
        {
          "output_type": "display_data",
          "data": {
            "text/html": [
              "<table class=\"dataframe\">\n",
              "<caption>A data.frame: 5 × 5</caption>\n",
              "<thead>\n",
              "\t<tr><th scope=col>Model</th><th scope=col>Corr</th><th scope=col>Rseq</th><th scope=col>RMSE</th><th scope=col>Accuracy</th></tr>\n",
              "\t<tr><th scope=col>&lt;chr&gt;</th><th scope=col>&lt;dbl&gt;</th><th scope=col>&lt;dbl&gt;</th><th scope=col>&lt;dbl&gt;</th><th scope=col>&lt;dbl&gt;</th></tr>\n",
              "</thead>\n",
              "<tbody>\n",
              "\t<tr><td>M1</td><td>0.79</td><td>0.62</td><td>1.25</td><td>60.89</td></tr>\n",
              "\t<tr><td>M2</td><td>0.66</td><td>0.44</td><td>2.89</td><td>63.07</td></tr>\n",
              "\t<tr><td>M3</td><td>0.56</td><td>0.31</td><td>1.57</td><td>62.87</td></tr>\n",
              "\t<tr><td>M4</td><td>0.82</td><td>0.67</td><td>2.68</td><td>70.19</td></tr>\n",
              "\t<tr><td>M5</td><td>0.75</td><td>0.56</td><td>1.30</td><td>80.39</td></tr>\n",
              "</tbody>\n",
              "</table>\n"
            ],
            "text/markdown": "\nA data.frame: 5 × 5\n\n| Model &lt;chr&gt; | Corr &lt;dbl&gt; | Rseq &lt;dbl&gt; | RMSE &lt;dbl&gt; | Accuracy &lt;dbl&gt; |\n|---|---|---|---|---|\n| M1 | 0.79 | 0.62 | 1.25 | 60.89 |\n| M2 | 0.66 | 0.44 | 2.89 | 63.07 |\n| M3 | 0.56 | 0.31 | 1.57 | 62.87 |\n| M4 | 0.82 | 0.67 | 2.68 | 70.19 |\n| M5 | 0.75 | 0.56 | 1.30 | 80.39 |\n\n",
            "text/latex": "A data.frame: 5 × 5\n\\begin{tabular}{lllll}\n Model & Corr & Rseq & RMSE & Accuracy\\\\\n <chr> & <dbl> & <dbl> & <dbl> & <dbl>\\\\\n\\hline\n\t M1 & 0.79 & 0.62 & 1.25 & 60.89\\\\\n\t M2 & 0.66 & 0.44 & 2.89 & 63.07\\\\\n\t M3 & 0.56 & 0.31 & 1.57 & 62.87\\\\\n\t M4 & 0.82 & 0.67 & 2.68 & 70.19\\\\\n\t M5 & 0.75 & 0.56 & 1.30 & 80.39\\\\\n\\end{tabular}\n",
            "text/plain": [
              "  Model Corr Rseq RMSE Accuracy\n",
              "1 M1    0.79 0.62 1.25 60.89   \n",
              "2 M2    0.66 0.44 2.89 63.07   \n",
              "3 M3    0.56 0.31 1.57 62.87   \n",
              "4 M4    0.82 0.67 2.68 70.19   \n",
              "5 M5    0.75 0.56 1.30 80.39   "
            ]
          },
          "metadata": {}
        }
      ]
    },
    {
      "cell_type": "markdown",
      "source": [
        "# Convert the dataset to Matrix"
      ],
      "metadata": {
        "id": "ZT7kBJe8gevT"
      }
    },
    {
      "cell_type": "code",
      "source": [
        "d <- as.matrix(mydata[,-1]) # -1, drop 1st column\n",
        "d"
      ],
      "metadata": {
        "colab": {
          "base_uri": "https://localhost:8080/",
          "height": 223
        },
        "id": "svyINeoJgfwB",
        "outputId": "8085ff67-4e67-4718-ebe4-0fd259e1de35"
      },
      "execution_count": null,
      "outputs": [
        {
          "output_type": "display_data",
          "data": {
            "text/html": [
              "<table class=\"dataframe\">\n",
              "<caption>A matrix: 5 × 4 of type dbl</caption>\n",
              "<thead>\n",
              "\t<tr><th scope=col>Corr</th><th scope=col>Rseq</th><th scope=col>RMSE</th><th scope=col>Accuracy</th></tr>\n",
              "</thead>\n",
              "<tbody>\n",
              "\t<tr><td>0.79</td><td>0.62</td><td>1.25</td><td>60.89</td></tr>\n",
              "\t<tr><td>0.66</td><td>0.44</td><td>2.89</td><td>63.07</td></tr>\n",
              "\t<tr><td>0.56</td><td>0.31</td><td>1.57</td><td>62.87</td></tr>\n",
              "\t<tr><td>0.82</td><td>0.67</td><td>2.68</td><td>70.19</td></tr>\n",
              "\t<tr><td>0.75</td><td>0.56</td><td>1.30</td><td>80.39</td></tr>\n",
              "</tbody>\n",
              "</table>\n"
            ],
            "text/markdown": "\nA matrix: 5 × 4 of type dbl\n\n| Corr | Rseq | RMSE | Accuracy |\n|---|---|---|---|\n| 0.79 | 0.62 | 1.25 | 60.89 |\n| 0.66 | 0.44 | 2.89 | 63.07 |\n| 0.56 | 0.31 | 1.57 | 62.87 |\n| 0.82 | 0.67 | 2.68 | 70.19 |\n| 0.75 | 0.56 | 1.30 | 80.39 |\n\n",
            "text/latex": "A matrix: 5 × 4 of type dbl\n\\begin{tabular}{llll}\n Corr & Rseq & RMSE & Accuracy\\\\\n\\hline\n\t 0.79 & 0.62 & 1.25 & 60.89\\\\\n\t 0.66 & 0.44 & 2.89 & 63.07\\\\\n\t 0.56 & 0.31 & 1.57 & 62.87\\\\\n\t 0.82 & 0.67 & 2.68 & 70.19\\\\\n\t 0.75 & 0.56 & 1.30 & 80.39\\\\\n\\end{tabular}\n",
            "text/plain": [
              "     Corr Rseq RMSE Accuracy\n",
              "[1,] 0.79 0.62 1.25 60.89   \n",
              "[2,] 0.66 0.44 2.89 63.07   \n",
              "[3,] 0.56 0.31 1.57 62.87   \n",
              "[4,] 0.82 0.67 2.68 70.19   \n",
              "[5,] 0.75 0.56 1.30 80.39   "
            ]
          },
          "metadata": {}
        }
      ]
    },
    {
      "cell_type": "markdown",
      "source": [
        "# Assigning the impacts"
      ],
      "metadata": {
        "id": "8dvBwcXDiyRR"
      }
    },
    {
      "cell_type": "code",
      "source": [
        "i <- c(\"+\",\"+\",\"-\",\"+\")\n",
        "i"
      ],
      "metadata": {
        "colab": {
          "base_uri": "https://localhost:8080/",
          "height": 34
        },
        "id": "bjb9BCJkizCx",
        "outputId": "b072f389-6ca6-4a82-a3b6-e3ce5cd702c9"
      },
      "execution_count": null,
      "outputs": [
        {
          "output_type": "display_data",
          "data": {
            "text/html": [
              "<style>\n",
              ".list-inline {list-style: none; margin:0; padding: 0}\n",
              ".list-inline>li {display: inline-block}\n",
              ".list-inline>li:not(:last-child)::after {content: \"\\00b7\"; padding: 0 .5ex}\n",
              "</style>\n",
              "<ol class=list-inline><li>'+'</li><li>'+'</li><li>'-'</li><li>'+'</li></ol>\n"
            ],
            "text/markdown": "1. '+'\n2. '+'\n3. '-'\n4. '+'\n\n\n",
            "text/latex": "\\begin{enumerate*}\n\\item '+'\n\\item '+'\n\\item '-'\n\\item '+'\n\\end{enumerate*}\n",
            "text/plain": [
              "[1] \"+\" \"+\" \"-\" \"+\""
            ]
          },
          "metadata": {}
        }
      ]
    },
    {
      "cell_type": "markdown",
      "source": [
        "# Assigning the weights"
      ],
      "metadata": {
        "id": "8czN2edJjHpd"
      }
    },
    {
      "cell_type": "code",
      "source": [
        "w <-c(1,1,1,1)\n",
        "w"
      ],
      "metadata": {
        "colab": {
          "base_uri": "https://localhost:8080/",
          "height": 34
        },
        "id": "gDQRggl5jIfZ",
        "outputId": "cba8d0db-6b68-49db-90c5-02432a2d6107"
      },
      "execution_count": null,
      "outputs": [
        {
          "output_type": "display_data",
          "data": {
            "text/html": [
              "<style>\n",
              ".list-inline {list-style: none; margin:0; padding: 0}\n",
              ".list-inline>li {display: inline-block}\n",
              ".list-inline>li:not(:last-child)::after {content: \"\\00b7\"; padding: 0 .5ex}\n",
              "</style>\n",
              "<ol class=list-inline><li>1</li><li>1</li><li>1</li><li>1</li></ol>\n"
            ],
            "text/markdown": "1. 1\n2. 1\n3. 1\n4. 1\n\n\n",
            "text/latex": "\\begin{enumerate*}\n\\item 1\n\\item 1\n\\item 1\n\\item 1\n\\end{enumerate*}\n",
            "text/plain": [
              "[1] 1 1 1 1"
            ]
          },
          "metadata": {}
        }
      ]
    },
    {
      "cell_type": "markdown",
      "source": [
        "# Calling the topisis function"
      ],
      "metadata": {
        "id": "SSYhBoD7jO7Z"
      }
    },
    {
      "cell_type": "code",
      "source": [
        "topsis(d, w, i)"
      ],
      "metadata": {
        "colab": {
          "base_uri": "https://localhost:8080/",
          "height": 255
        },
        "id": "n3aFGK-5jP6M",
        "outputId": "e2a7c868-d37d-479e-fb12-69782bc04b0a"
      },
      "execution_count": null,
      "outputs": [
        {
          "output_type": "display_data",
          "data": {
            "text/html": [
              "<table class=\"dataframe\">\n",
              "<caption>A data.frame: 5 × 3</caption>\n",
              "<thead>\n",
              "\t<tr><th scope=col>alt.row</th><th scope=col>score</th><th scope=col>rank</th></tr>\n",
              "\t<tr><th scope=col>&lt;int&gt;</th><th scope=col>&lt;dbl&gt;</th><th scope=col>&lt;dbl&gt;</th></tr>\n",
              "</thead>\n",
              "<tbody>\n",
              "\t<tr><td>1</td><td>0.7722097</td><td>2</td></tr>\n",
              "\t<tr><td>2</td><td>0.2255988</td><td>5</td></tr>\n",
              "\t<tr><td>3</td><td>0.4388973</td><td>4</td></tr>\n",
              "\t<tr><td>4</td><td>0.5238779</td><td>3</td></tr>\n",
              "\t<tr><td>5</td><td>0.8113887</td><td>1</td></tr>\n",
              "</tbody>\n",
              "</table>\n"
            ],
            "text/markdown": "\nA data.frame: 5 × 3\n\n| alt.row &lt;int&gt; | score &lt;dbl&gt; | rank &lt;dbl&gt; |\n|---|---|---|\n| 1 | 0.7722097 | 2 |\n| 2 | 0.2255988 | 5 |\n| 3 | 0.4388973 | 4 |\n| 4 | 0.5238779 | 3 |\n| 5 | 0.8113887 | 1 |\n\n",
            "text/latex": "A data.frame: 5 × 3\n\\begin{tabular}{lll}\n alt.row & score & rank\\\\\n <int> & <dbl> & <dbl>\\\\\n\\hline\n\t 1 & 0.7722097 & 2\\\\\n\t 2 & 0.2255988 & 5\\\\\n\t 3 & 0.4388973 & 4\\\\\n\t 4 & 0.5238779 & 3\\\\\n\t 5 & 0.8113887 & 1\\\\\n\\end{tabular}\n",
            "text/plain": [
              "  alt.row score     rank\n",
              "1 1       0.7722097 2   \n",
              "2 2       0.2255988 5   \n",
              "3 3       0.4388973 4   \n",
              "4 4       0.5238779 3   \n",
              "5 5       0.8113887 1   "
            ]
          },
          "metadata": {}
        }
      ]
    },
    {
      "cell_type": "markdown",
      "source": [
        "# Complete Code"
      ],
      "metadata": {
        "id": "fC6Z-20Tjgtt"
      }
    },
    {
      "cell_type": "code",
      "source": [
        "library(topsis)\n",
        "mydata=read.csv('/content/Topsis-Dataset.csv')\n",
        "d <- as.matrix(mydata[,-1]) # -1, drop 1st column\n",
        "i <- c(\"+\", \"+\", \"-\", \"+\")\n",
        "w <- c(1,1,1,1)\n",
        "topsis(d, w, i)"
      ],
      "metadata": {
        "colab": {
          "base_uri": "https://localhost:8080/",
          "height": 255
        },
        "id": "ymVJjRXwjjA_",
        "outputId": "c92b5e1f-1f5a-49ac-c541-68fa60526c33"
      },
      "execution_count": null,
      "outputs": [
        {
          "output_type": "display_data",
          "data": {
            "text/html": [
              "<table class=\"dataframe\">\n",
              "<caption>A data.frame: 5 × 3</caption>\n",
              "<thead>\n",
              "\t<tr><th scope=col>alt.row</th><th scope=col>score</th><th scope=col>rank</th></tr>\n",
              "\t<tr><th scope=col>&lt;int&gt;</th><th scope=col>&lt;dbl&gt;</th><th scope=col>&lt;dbl&gt;</th></tr>\n",
              "</thead>\n",
              "<tbody>\n",
              "\t<tr><td>1</td><td>0.7722097</td><td>2</td></tr>\n",
              "\t<tr><td>2</td><td>0.2255988</td><td>5</td></tr>\n",
              "\t<tr><td>3</td><td>0.4388973</td><td>4</td></tr>\n",
              "\t<tr><td>4</td><td>0.5238779</td><td>3</td></tr>\n",
              "\t<tr><td>5</td><td>0.8113887</td><td>1</td></tr>\n",
              "</tbody>\n",
              "</table>\n"
            ],
            "text/markdown": "\nA data.frame: 5 × 3\n\n| alt.row &lt;int&gt; | score &lt;dbl&gt; | rank &lt;dbl&gt; |\n|---|---|---|\n| 1 | 0.7722097 | 2 |\n| 2 | 0.2255988 | 5 |\n| 3 | 0.4388973 | 4 |\n| 4 | 0.5238779 | 3 |\n| 5 | 0.8113887 | 1 |\n\n",
            "text/latex": "A data.frame: 5 × 3\n\\begin{tabular}{lll}\n alt.row & score & rank\\\\\n <int> & <dbl> & <dbl>\\\\\n\\hline\n\t 1 & 0.7722097 & 2\\\\\n\t 2 & 0.2255988 & 5\\\\\n\t 3 & 0.4388973 & 4\\\\\n\t 4 & 0.5238779 & 3\\\\\n\t 5 & 0.8113887 & 1\\\\\n\\end{tabular}\n",
            "text/plain": [
              "  alt.row score     rank\n",
              "1 1       0.7722097 2   \n",
              "2 2       0.2255988 5   \n",
              "3 3       0.4388973 4   \n",
              "4 4       0.5238779 3   \n",
              "5 5       0.8113887 1   "
            ]
          },
          "metadata": {}
        }
      ]
    }
  ]
}